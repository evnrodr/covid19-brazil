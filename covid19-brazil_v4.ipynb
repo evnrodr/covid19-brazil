{
 "cells": [
  {
   "cell_type": "code",
   "execution_count": 1,
   "metadata": {},
   "outputs": [],
   "source": [
    "## Importations\n",
    "import pandas as pd\n",
    "import matplotlib.pyplot as plt\n",
    "import time\n",
    "\n",
    "from util.data_preprocessing.get_data import download_dataset, data_cleaning\n",
    "from util.data_processing.national_data import process_national_data\n",
    "from util.data_processing.regional_data import process_regional_data\n",
    "from util.data_processing.state_data import process_state_split_data\n",
    "from util.data_visualization.national_plots import plot_national_acc, plot_national_daily\n",
    "from util.data_visualization.state_plots import plot_state_acc, plot_state_daily\n",
    "from util.data_visualization.regional_plots import plot_regional_acc, plot_regional_daily\n",
    "from util.data_visualization.extra_plots import plot_epidemiological_weeks\n",
    "from util.extra_functions.aux_functions import generate_report"
   ]
  },
  {
   "cell_type": "code",
   "execution_count": 2,
   "metadata": {},
   "outputs": [],
   "source": [
    "# Creating a dictionary of regions and states\n",
    "region_list = [\"Norte\", \"Nordeste\", \"Centro-Oeste\", \"Sudeste\", \"Sul\"]\n",
    "\n",
    "regions = {\n",
    "    \"Norte\" : [\"AC\", \"AP\", \"AM\", \"TO\", \"PA\", \"RR\", \"RO\"],\n",
    "    \"Nordeste\" : [\"AL\", \"BA\", \"PB\", \"PE\", \"SE\", \"PI\", \"CE\", \"MA\", \"RN\"],\n",
    "    \"Centro-Oeste\" : [\"MT\", \"GO\", \"MS\", \"DF\"],\n",
    "    \"Sudeste\" : [\"SP\", \"ES\", \"RJ\", \"MG\"],\n",
    "    \"Sul\" : [\"SC\", \"RS\", \"PR\"],\n",
    "}\n",
    "\n",
    "state_list = ['AC', 'AP', 'AM', 'TO', 'PA', 'RR', 'RO', 'AL', 'BA', 'PB', 'PE', 'SE', 'PI', 'CE', 'MA', 'RN', 'MT', 'GO', 'MS', 'DF', 'SP', 'ES', 'RJ', 'MG',  'SC', 'RS', 'PR']"
   ]
  },
  {
   "cell_type": "code",
   "execution_count": 3,
   "metadata": {},
   "outputs": [],
   "source": [
    "## Defining the style for plottings\n",
    "plt.style.use([\"seaborn-whitegrid\", \"./util/styles/custom_style.mplstyle\"])"
   ]
  },
  {
   "cell_type": "code",
   "execution_count": 4,
   "metadata": {},
   "outputs": [],
   "source": [
    "## Main\n",
    "def main():\n",
    "        \n",
    "    print(\"=== COVID 19 - BRAZIL ===\\n\")\n",
    "    print(\"> Downloading the dataset (caso_full.csv) from | data.brasil.io/dataset/covid19/ |\")\n",
    "\n",
    "    covid_dataset = download_dataset()\n",
    "    \n",
    "    print(\"  - Download completed.\\n\")\n",
    "    print(\"> Initiating dataset cleaning.\")\n",
    "    \n",
    "    covid_dataset, last_available_date = data_cleaning(covid_dataset, regions)\n",
    "    \n",
    "    # Creating a list from the first case until today\n",
    "    date_list = pd.date_range(start = \"2020-02-25\", end = last_available_date)\n",
    "    \n",
    "    print(\"  - Data cleaning completed.\\n\")\n",
    "    print(\"> Processing national data.\")\n",
    "    \n",
    "    national_data = process_national_data(covid_dataset, date_list, last_available_date)\n",
    "    \n",
    "    print(\"  - National data acquired.\\n\")\n",
    "    print(\"> Processing regional data.\")\n",
    "    \n",
    "    regional_data = process_regional_data(covid_dataset, region_list, date_list, last_available_date)\n",
    "    \n",
    "    print(\"  - Regional data acquired.\\n\")\n",
    "    print(\"> Processing state data.\")\n",
    "    \n",
    "    process_state_split_data(state_list, covid_dataset, date_list, last_available_date)\n",
    "    \n",
    "    print(\"  - State data acquired.\\n\")\n",
    "    print(\"> Generating plots.\")\n",
    "    \n",
    "    plot_national_acc(national_data, last_available_date)\n",
    "    plot_national_daily(national_data, last_available_date)\n",
    "    plot_epidemiological_weeks(national_data, last_available_date)\n",
    "    plot_state_acc(covid_dataset, last_available_date)\n",
    "    plot_state_daily(covid_dataset, last_available_date)\n",
    "    plot_regional_acc(regional_data, region_list, last_available_date)\n",
    "    plot_regional_daily(regional_data, region_list, last_available_date)\n",
    "    \n",
    "    print(\"  - Plots generated.\\n\")\n",
    "    \n",
    "    print(\"> Returning dataframes.\")\n",
    "    print(\"  - DataFrames returned.\\n\")\n",
    "    \n",
    "    print(\"> Generating report\")\n",
    "    \n",
    "    generate_report(national_data, last_available_date)\n",
    "    \n",
    "    print(\"  - Report generated.\\n\")\n",
    "    \n",
    "    print(\"Exiting the application.\\n\")\n",
    "    \n",
    "    return covid_dataset, national_data, regional_data"
   ]
  },
  {
   "cell_type": "code",
   "execution_count": 5,
   "metadata": {},
   "outputs": [
    {
     "name": "stdout",
     "output_type": "stream",
     "text": [
      "=== COVID 19 - BRAZIL ===\n",
      "\n",
      "> Downloading the dataset (caso_full.csv) from | data.brasil.io/dataset/covid19/ |\n",
      "  - Download completed.\n",
      "\n",
      "> Initiating dataset cleaning.\n",
      "  - Data cleaning completed.\n",
      "\n",
      "> Processing national data.\n",
      "  - National data acquired.\n",
      "\n",
      "> Processing regional data.\n",
      "  - Regional data acquired.\n",
      "\n",
      "> Processing state data.\n",
      "  - State data acquired.\n",
      "\n",
      "> Generating plots.\n",
      "  - Plots generated.\n",
      "\n",
      "> Returning dataframes.\n",
      "  - DataFrames returned.\n",
      "\n",
      "> Generating report\n",
      "  - Report generated.\n",
      "\n",
      "Exiting the application.\n",
      "\n",
      "This script runtime was: 50.59 seconds.\n"
     ]
    }
   ],
   "source": [
    "## Extra\n",
    "# Starting timer\n",
    "start_time = time.time()\n",
    "\n",
    "# Running main function\n",
    "covid_dataset, national_data, regional_data = main()\n",
    "\n",
    "# Ending and printing the runtime\n",
    "print(\"This script runtime was: %s seconds.\" % round((time.time() - start_time), 2))"
   ]
  },
  {
   "cell_type": "code",
   "execution_count": null,
   "metadata": {},
   "outputs": [],
   "source": []
  }
 ],
 "metadata": {
  "kernelspec": {
   "display_name": "Python 3",
   "language": "python",
   "name": "python3"
  },
  "language_info": {
   "codemirror_mode": {
    "name": "ipython",
    "version": 3
   },
   "file_extension": ".py",
   "mimetype": "text/x-python",
   "name": "python",
   "nbconvert_exporter": "python",
   "pygments_lexer": "ipython3",
   "version": "3.8.5"
  }
 },
 "nbformat": 4,
 "nbformat_minor": 4
}
