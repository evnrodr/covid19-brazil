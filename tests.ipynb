{
 "cells": [
  {
   "cell_type": "code",
   "execution_count": 1,
   "metadata": {},
   "outputs": [],
   "source": [
    "import pandas as pd"
   ]
  },
  {
   "cell_type": "code",
   "execution_count": 36,
   "metadata": {},
   "outputs": [],
   "source": [
    "cases = pd.read_csv(\"data/caso.csv\")"
   ]
  },
  {
   "cell_type": "code",
   "execution_count": 37,
   "metadata": {},
   "outputs": [],
   "source": [
    "cases = cases[cases[\"date\"] == \"2021-02-15\"]"
   ]
  },
  {
   "cell_type": "code",
   "execution_count": 38,
   "metadata": {},
   "outputs": [],
   "source": [
    "cases = cases[cases[\"place_type\"] == \"state\"]"
   ]
  },
  {
   "cell_type": "code",
   "execution_count": 39,
   "metadata": {},
   "outputs": [],
   "source": [
    "cases = cases[cases[\"is_last\"] == True]"
   ]
  },
  {
   "cell_type": "code",
   "execution_count": 40,
   "metadata": {},
   "outputs": [
    {
     "data": {
      "text/html": [
       "<div>\n",
       "<style scoped>\n",
       "    .dataframe tbody tr th:only-of-type {\n",
       "        vertical-align: middle;\n",
       "    }\n",
       "\n",
       "    .dataframe tbody tr th {\n",
       "        vertical-align: top;\n",
       "    }\n",
       "\n",
       "    .dataframe thead th {\n",
       "        text-align: right;\n",
       "    }\n",
       "</style>\n",
       "<table border=\"1\" class=\"dataframe\">\n",
       "  <thead>\n",
       "    <tr style=\"text-align: right;\">\n",
       "      <th></th>\n",
       "      <th>date</th>\n",
       "      <th>state</th>\n",
       "      <th>city</th>\n",
       "      <th>place_type</th>\n",
       "      <th>confirmed</th>\n",
       "      <th>deaths</th>\n",
       "      <th>order_for_place</th>\n",
       "      <th>is_last</th>\n",
       "      <th>estimated_population_2019</th>\n",
       "      <th>estimated_population</th>\n",
       "      <th>city_ibge_code</th>\n",
       "      <th>confirmed_per_100k_inhabitants</th>\n",
       "      <th>death_rate</th>\n",
       "    </tr>\n",
       "  </thead>\n",
       "  <tbody>\n",
       "    <tr>\n",
       "      <th>385147</th>\n",
       "      <td>2021-02-15</td>\n",
       "      <td>MS</td>\n",
       "      <td>NaN</td>\n",
       "      <td>state</td>\n",
       "      <td>171828</td>\n",
       "      <td>3160</td>\n",
       "      <td>339</td>\n",
       "      <td>True</td>\n",
       "      <td>2778986.0</td>\n",
       "      <td>2809394.0</td>\n",
       "      <td>50.0</td>\n",
       "      <td>6116.19445</td>\n",
       "      <td>0.0184</td>\n",
       "    </tr>\n",
       "    <tr>\n",
       "      <th>901010</th>\n",
       "      <td>2021-02-15</td>\n",
       "      <td>RN</td>\n",
       "      <td>NaN</td>\n",
       "      <td>state</td>\n",
       "      <td>158296</td>\n",
       "      <td>3438</td>\n",
       "      <td>304</td>\n",
       "      <td>True</td>\n",
       "      <td>3506853.0</td>\n",
       "      <td>3534165.0</td>\n",
       "      <td>24.0</td>\n",
       "      <td>4479.02121</td>\n",
       "      <td>0.0217</td>\n",
       "    </tr>\n",
       "    <tr>\n",
       "      <th>1279775</th>\n",
       "      <td>2021-02-15</td>\n",
       "      <td>TO</td>\n",
       "      <td>NaN</td>\n",
       "      <td>state</td>\n",
       "      <td>107560</td>\n",
       "      <td>1458</td>\n",
       "      <td>335</td>\n",
       "      <td>True</td>\n",
       "      <td>1572866.0</td>\n",
       "      <td>1590248.0</td>\n",
       "      <td>17.0</td>\n",
       "      <td>6763.72490</td>\n",
       "      <td>0.0136</td>\n",
       "    </tr>\n",
       "  </tbody>\n",
       "</table>\n",
       "</div>"
      ],
      "text/plain": [
       "               date state city place_type  confirmed  deaths  order_for_place  \\\n",
       "385147   2021-02-15    MS  NaN      state     171828    3160              339   \n",
       "901010   2021-02-15    RN  NaN      state     158296    3438              304   \n",
       "1279775  2021-02-15    TO  NaN      state     107560    1458              335   \n",
       "\n",
       "         is_last  estimated_population_2019  estimated_population  \\\n",
       "385147      True                  2778986.0             2809394.0   \n",
       "901010      True                  3506853.0             3534165.0   \n",
       "1279775     True                  1572866.0             1590248.0   \n",
       "\n",
       "         city_ibge_code  confirmed_per_100k_inhabitants  death_rate  \n",
       "385147             50.0                      6116.19445      0.0184  \n",
       "901010             24.0                      4479.02121      0.0217  \n",
       "1279775            17.0                      6763.72490      0.0136  "
      ]
     },
     "execution_count": 40,
     "metadata": {},
     "output_type": "execute_result"
    }
   ],
   "source": [
    "cases"
   ]
  },
  {
   "cell_type": "code",
   "execution_count": 34,
   "metadata": {},
   "outputs": [
    {
     "data": {
      "text/plain": [
       "date                              2021-02-162021-02-162021-02-162021-02-162021-0...\n",
       "state                             ACAPAMDFALESCEMAGOBAMSMTPAMGPIPEPBRORJRNPRRRSE...\n",
       "city                                                                              0\n",
       "place_type                        statestatestatestatestatestatestatestatestates...\n",
       "confirmed                                                                   9926864\n",
       "deaths                                                                       241089\n",
       "order_for_place                                                                9104\n",
       "is_last                                                                          27\n",
       "estimated_population_2019                                               2.10147e+08\n",
       "estimated_population                                                    2.11756e+08\n",
       "city_ibge_code                                                                  786\n",
       "confirmed_per_100k_inhabitants                                               157761\n",
       "death_rate                                                                   0.5965\n",
       "dtype: object"
      ]
     },
     "execution_count": 34,
     "metadata": {},
     "output_type": "execute_result"
    }
   ],
   "source": [
    "cases.sum()"
   ]
  },
  {
   "cell_type": "code",
   "execution_count": 20,
   "metadata": {},
   "outputs": [],
   "source": [
    "cases = cases[cases[\"date\"] == \"2021-02-16\"]"
   ]
  },
  {
   "cell_type": "code",
   "execution_count": 21,
   "metadata": {},
   "outputs": [
    {
     "data": {
      "text/html": [
       "<div>\n",
       "<style scoped>\n",
       "    .dataframe tbody tr th:only-of-type {\n",
       "        vertical-align: middle;\n",
       "    }\n",
       "\n",
       "    .dataframe tbody tr th {\n",
       "        vertical-align: top;\n",
       "    }\n",
       "\n",
       "    .dataframe thead th {\n",
       "        text-align: right;\n",
       "    }\n",
       "</style>\n",
       "<table border=\"1\" class=\"dataframe\">\n",
       "  <thead>\n",
       "    <tr style=\"text-align: right;\">\n",
       "      <th></th>\n",
       "      <th>date</th>\n",
       "      <th>state</th>\n",
       "      <th>city</th>\n",
       "      <th>place_type</th>\n",
       "      <th>confirmed</th>\n",
       "      <th>deaths</th>\n",
       "      <th>order_for_place</th>\n",
       "      <th>is_last</th>\n",
       "      <th>estimated_population_2019</th>\n",
       "      <th>estimated_population</th>\n",
       "      <th>city_ibge_code</th>\n",
       "      <th>confirmed_per_100k_inhabitants</th>\n",
       "      <th>death_rate</th>\n",
       "    </tr>\n",
       "  </thead>\n",
       "  <tbody>\n",
       "  </tbody>\n",
       "</table>\n",
       "</div>"
      ],
      "text/plain": [
       "Empty DataFrame\n",
       "Columns: [date, state, city, place_type, confirmed, deaths, order_for_place, is_last, estimated_population_2019, estimated_population, city_ibge_code, confirmed_per_100k_inhabitants, death_rate]\n",
       "Index: []"
      ]
     },
     "execution_count": 21,
     "metadata": {},
     "output_type": "execute_result"
    }
   ],
   "source": [
    "cases"
   ]
  },
  {
   "cell_type": "code",
   "execution_count": null,
   "metadata": {},
   "outputs": [],
   "source": []
  },
  {
   "cell_type": "code",
   "execution_count": 12,
   "metadata": {},
   "outputs": [],
   "source": []
  },
  {
   "cell_type": "code",
   "execution_count": 13,
   "metadata": {},
   "outputs": [
    {
     "data": {
      "text/plain": [
       "9489180"
      ]
     },
     "execution_count": 13,
     "metadata": {},
     "output_type": "execute_result"
    }
   ],
   "source": [
    "cases['confirmed'].sum()"
   ]
  }
 ],
 "metadata": {
  "kernelspec": {
   "display_name": "Python 3",
   "language": "python",
   "name": "python3"
  },
  "language_info": {
   "codemirror_mode": {
    "name": "ipython",
    "version": 3
   },
   "file_extension": ".py",
   "mimetype": "text/x-python",
   "name": "python",
   "nbconvert_exporter": "python",
   "pygments_lexer": "ipython3",
   "version": "3.8.5"
  }
 },
 "nbformat": 4,
 "nbformat_minor": 4
}
