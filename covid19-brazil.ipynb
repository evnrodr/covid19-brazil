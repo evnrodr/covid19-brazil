{
 "cells": [
  {
   "cell_type": "markdown",
   "metadata": {},
   "source": [
    "# COVID-19 in Brazil\n",
    "---\n",
    "In this Jupyter Notebook you'll find a statistical analysis of COVID-19 in Brazil."
   ]
  },
  {
   "cell_type": "markdown",
   "metadata": {},
   "source": [
    "## Project Setup"
   ]
  },
  {
   "cell_type": "code",
   "execution_count": null,
   "metadata": {},
   "outputs": [],
   "source": [
    "import matplotlib.pyplot as plt\n",
    "import pandas as pd\n",
    "import csv\n",
    "import gzip\n",
    "import io\n",
    "from urllib.request import Request, urlopen"
   ]
  },
  {
   "cell_type": "markdown",
   "metadata": {},
   "source": [
    "## Initial Settings"
   ]
  },
  {
   "cell_type": "markdown",
   "metadata": {},
   "source": [
    "#### List of Regions"
   ]
  },
  {
   "cell_type": "code",
   "execution_count": null,
   "metadata": {},
   "outputs": [],
   "source": [
    "region_list = [\"Norte\", \"Nordeste\", \"Centro-Oeste\", \"Sudeste\", \"Sul\"]"
   ]
  },
  {
   "cell_type": "markdown",
   "metadata": {},
   "source": [
    "#### Dictionary of Regions:States"
   ]
  },
  {
   "cell_type": "code",
   "execution_count": null,
   "metadata": {},
   "outputs": [],
   "source": [
    "regions = {\n",
    "    \"Norte\" : [\"AC\", \"AP\", \"AM\", \"TO\", \"PA\", \"RR\", \"RO\"],\n",
    "    \"Nordeste\" : [\"AL\", \"BA\", \"PB\", \"PE\", \"SE\", \"PI\", \"CE\", \"MA\", \"RN\"],\n",
    "    \"Centro-Oeste\" : [\"MT\", \"GO\", \"MS\", \"DF\"],\n",
    "    \"Sudeste\" : [\"SP\", \"ES\", \"RJ\", \"MG\"],\n",
    "    \"Sul\" : [\"SC\", \"RS\", \"PR\"],\n",
    "}"
   ]
  },
  {
   "cell_type": "markdown",
   "metadata": {},
   "source": [
    "#### List of States"
   ]
  },
  {
   "cell_type": "code",
   "execution_count": null,
   "metadata": {},
   "outputs": [],
   "source": [
    "state_list = ['AC', 'AP', 'AM', 'TO', 'PA', 'RR', 'RO', 'AL', 'BA', 'PB', 'PE', 'SE', 'PI', 'CE', 'MA', 'RN', 'MT', 'GO', 'MS', 'DF', 'SP', 'ES', 'RJ', 'MG',  'SC', 'RS', 'PR']"
   ]
  },
  {
   "cell_type": "markdown",
   "metadata": {},
   "source": [
    "#### Setting Plotting Theme"
   ]
  },
  {
   "cell_type": "code",
   "execution_count": null,
   "metadata": {},
   "outputs": [],
   "source": [
    "plt.style.use([\"seaborn-whitegrid\", \"./util/styles/custom_style.mplstyle\"])"
   ]
  },
  {
   "cell_type": "markdown",
   "metadata": {},
   "source": [
    "## Auxiliary Functions"
   ]
  },
  {
   "cell_type": "markdown",
   "metadata": {},
   "source": [
    "#### Save a Dataset to a specific path"
   ]
  },
  {
   "cell_type": "code",
   "execution_count": null,
   "metadata": {},
   "outputs": [],
   "source": [
    "def save_dataset(dataset, path):\n",
    "    return dataset.to_csv(path, index=False)"
   ]
  },
  {
   "cell_type": "markdown",
   "metadata": {},
   "source": [
    "#### Return a region based on a state"
   ]
  },
  {
   "cell_type": "code",
   "execution_count": null,
   "metadata": {},
   "outputs": [],
   "source": [
    "def get_region(state, regions):\n",
    "    for region, states in regions.items():  \n",
    "        if state in states:\n",
    "            return region"
   ]
  },
  {
   "cell_type": "markdown",
   "metadata": {},
   "source": [
    "#### Generate a fancy report"
   ]
  },
  {
   "cell_type": "code",
   "execution_count": null,
   "metadata": {},
   "outputs": [],
   "source": [
    "def generate_report(dataset, last_available_date):\n",
    "    file = open(f\"reports/{last_available_date[5:7]}-{last_available_date[0:4]}/report_{last_available_date[-2:]}{last_available_date[5:7]}{last_available_date[0:4]}.txt\", \"w\", encoding='utf8')\n",
    "    \n",
    "    file.write(f\"Atualização COVID-19 no Brasil [{last_available_date[-2:]}/{last_available_date[5:7]}/{last_available_date[0:4]}]\\n\\n\")\n",
    "    \n",
    "    file.write((\"| Casos Acumulados: {0:,}\\n\").format(dataset[\"accumulated_num_cases\"].iat[-1]).replace(',','.'))\n",
    "    file.write((\"| Óbitos Acumulados: {0:,}\\n\\n\").format(dataset[\"accumulated_num_deaths\"].iat[-1]).replace(',','.'))\n",
    "    \n",
    "    file.write((\"| Qntd. de NOVOS Casos: {0:,}\\n\").format(dataset[\"new_num_cases\"].iat[-1]).replace(',','.'))\n",
    "    file.write((\"| Qntd. de NOVOS Óbitos: {0:,}\\n\\n\").format(dataset[\"new_num_deaths\"].iat[-1]).replace(',','.'))\n",
    "    \n",
    "    file.write(\"Fonte dos dados: http://brasil.io / Secretarias de Saúde\\n\")\n",
    "    file.write(\"#ficaemcasa #DataScience #COVID19\")\n",
    "    \n",
    "    file.write(\"\\n\\n=================================\\n\\n\")\n",
    "    \n",
    "    file.write(\"Visualização por Semanas Epidemiológicas e visualizações Regionais:\")\n",
    "    \n",
    "    file.write(\"\\n\\n=================================\\n\\n\")\n",
    "    \n",
    "    file.write(\"Repositório do GitHub:\\n\")\n",
    "    file.write(\"https://github.com/evnrodr/covid19-brazil\")\n",
    "    \n",
    "    file.close()"
   ]
  }
 ],
 "metadata": {
  "kernelspec": {
   "display_name": "Python 3",
   "language": "python",
   "name": "python3"
  },
  "language_info": {
   "codemirror_mode": {
    "name": "ipython",
    "version": 3
   },
   "file_extension": ".py",
   "mimetype": "text/x-python",
   "name": "python",
   "nbconvert_exporter": "python",
   "pygments_lexer": "ipython3",
   "version": "3.8.5"
  }
 },
 "nbformat": 4,
 "nbformat_minor": 4
}
