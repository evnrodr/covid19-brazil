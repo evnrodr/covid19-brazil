{
 "cells": [
  {
   "cell_type": "markdown",
   "metadata": {},
   "source": [
    "# COVID-19 in Brazil\n",
    "---\n",
    "In this Jupyter Notebook you'll find a statistical analysis of COVID-19 in Brazil."
   ]
  },
  {
   "cell_type": "markdown",
   "metadata": {},
   "source": [
    "## Project Setup"
   ]
  },
  {
   "cell_type": "code",
   "execution_count": 1,
   "metadata": {},
   "outputs": [],
   "source": [
    "import matplotlib.pyplot as plt\n",
    "import pandas as pd\n",
    "import csv\n",
    "import gzip\n",
    "import io\n",
    "import os\n",
    "import os.path \n",
    "import time\n",
    "from datetime import datetime\n",
    "from urllib.request import Request, urlopen"
   ]
  },
  {
   "cell_type": "markdown",
   "metadata": {},
   "source": [
    "## Initial Settings"
   ]
  },
  {
   "cell_type": "markdown",
   "metadata": {},
   "source": [
    "#### List of Regions"
   ]
  },
  {
   "cell_type": "code",
   "execution_count": 2,
   "metadata": {},
   "outputs": [],
   "source": [
    "region_list = [\"Norte\", \"Nordeste\", \"Centro-Oeste\", \"Sudeste\", \"Sul\"]"
   ]
  },
  {
   "cell_type": "markdown",
   "metadata": {},
   "source": [
    "#### Dictionary of Regions:States"
   ]
  },
  {
   "cell_type": "code",
   "execution_count": 3,
   "metadata": {},
   "outputs": [],
   "source": [
    "regions = {\n",
    "    \"Norte\" : [\"AC\", \"AP\", \"AM\", \"TO\", \"PA\", \"RR\", \"RO\"],\n",
    "    \"Nordeste\" : [\"AL\", \"BA\", \"PB\", \"PE\", \"SE\", \"PI\", \"CE\", \"MA\", \"RN\"],\n",
    "    \"Centro-Oeste\" : [\"MT\", \"GO\", \"MS\", \"DF\"],\n",
    "    \"Sudeste\" : [\"SP\", \"ES\", \"RJ\", \"MG\"],\n",
    "    \"Sul\" : [\"SC\", \"RS\", \"PR\"],\n",
    "}"
   ]
  },
  {
   "cell_type": "markdown",
   "metadata": {},
   "source": [
    "#### List of States"
   ]
  },
  {
   "cell_type": "code",
   "execution_count": 4,
   "metadata": {},
   "outputs": [],
   "source": [
    "state_list = ['AC', 'AP', 'AM', 'TO', 'PA', 'RR', 'RO', 'AL', 'BA', 'PB', 'PE', 'SE', 'PI', 'CE', 'MA', 'RN', 'MT', 'GO', 'MS', 'DF', 'SP', 'ES', 'RJ', 'MG',  'SC', 'RS', 'PR']"
   ]
  },
  {
   "cell_type": "markdown",
   "metadata": {},
   "source": [
    "#### Setting Plotting Theme"
   ]
  },
  {
   "cell_type": "code",
   "execution_count": 5,
   "metadata": {},
   "outputs": [],
   "source": [
    "plt.style.use([\"seaborn-whitegrid\", \"./util/styles/custom_style.mplstyle\"])"
   ]
  },
  {
   "cell_type": "markdown",
   "metadata": {},
   "source": [
    "## Auxiliary Functions"
   ]
  },
  {
   "cell_type": "markdown",
   "metadata": {},
   "source": [
    "#### Save a Dataset to a specific path"
   ]
  },
  {
   "cell_type": "code",
   "execution_count": 6,
   "metadata": {},
   "outputs": [],
   "source": [
    "def save_dataset(dataset, path):\n",
    "    return dataset.to_csv(path, index=False)"
   ]
  },
  {
   "cell_type": "markdown",
   "metadata": {},
   "source": [
    "#### Return a region based on a state"
   ]
  },
  {
   "cell_type": "code",
   "execution_count": 7,
   "metadata": {},
   "outputs": [],
   "source": [
    "def get_region(state, regions):\n",
    "    for region, states in regions.items():  \n",
    "        if state in states:\n",
    "            return region"
   ]
  },
  {
   "cell_type": "markdown",
   "metadata": {},
   "source": [
    "#### Generate a fancy report"
   ]
  },
  {
   "cell_type": "code",
   "execution_count": 8,
   "metadata": {},
   "outputs": [],
   "source": [
    "def generate_report(dataset, last_available_date):\n",
    "    file = open(f\"reports/{last_available_date[5:7]}-{last_available_date[0:4]}/report_{last_available_date[-2:]}{last_available_date[5:7]}{last_available_date[0:4]}.txt\", \"w\", encoding='utf8')\n",
    "    \n",
    "    file.write(f\"Atualização COVID-19 no Brasil [{last_available_date[-2:]}/{last_available_date[5:7]}/{last_available_date[0:4]}]\\n\\n\")\n",
    "    \n",
    "    file.write((\"| Casos Acumulados: {0:,}\\n\").format(dataset[\"accumulated_num_cases\"].iat[-1]).replace(',','.'))\n",
    "    file.write((\"| Óbitos Acumulados: {0:,}\\n\\n\").format(dataset[\"accumulated_num_deaths\"].iat[-1]).replace(',','.'))\n",
    "    \n",
    "    file.write((\"| Qntd. de NOVOS Casos: {0:,}\\n\").format(dataset[\"new_num_cases\"].iat[-1]).replace(',','.'))\n",
    "    file.write((\"| Qntd. de NOVOS Óbitos: {0:,}\\n\\n\").format(dataset[\"new_num_deaths\"].iat[-1]).replace(',','.'))\n",
    "    \n",
    "    file.write(\"Fonte dos dados: http://brasil.io / Secretarias de Saúde\\n\")\n",
    "    file.write(\"#ficaemcasa #DataScience #COVID19\")\n",
    "    \n",
    "    file.write(\"\\n\\n=================================\\n\\n\")\n",
    "    \n",
    "    file.write(\"Visualização por Semanas Epidemiológicas e visualizações Regionais:\")\n",
    "    \n",
    "    file.write(\"\\n\\n=================================\\n\\n\")\n",
    "    \n",
    "    file.write(\"Repositório do GitHub:\\n\")\n",
    "    file.write(\"https://github.com/evnrodr/covid19-brazil\")\n",
    "    \n",
    "    file.close()"
   ]
  },
  {
   "cell_type": "markdown",
   "metadata": {},
   "source": [
    "## Data Preprocessing"
   ]
  },
  {
   "cell_type": "markdown",
   "metadata": {},
   "source": [
    "### Downloading the Data"
   ]
  },
  {
   "cell_type": "code",
   "execution_count": 9,
   "metadata": {},
   "outputs": [],
   "source": [
    "def download_dataset():\n",
    "    \n",
    "    # Downloads the dataset from request/response\n",
    "    request = Request(\"https://data.brasil.io/dataset/covid19/caso_full.csv.gz\", headers={\"User-Agent\": \"python-urllib\"})\n",
    "    response = urlopen(request)\n",
    "    \n",
    "    # Create a DataFrame from dictionary\n",
    "    dataset = pd.DataFrame.from_dict(csv.DictReader(io.StringIO(gzip.decompress(response.read()).decode(\"utf-8\"))))\n",
    "    \n",
    "    # Saves the dataset\n",
    "    save_dataset(dataset, \"data/processed/covid19-dataset-brasilio-original.csv\")\n",
    "    \n",
    "    # Returns the reading of the saved dataset (This process it's necessary in order to avoid type errors and possible errors during data reading)\n",
    "    return pd.read_csv(\"data/processed/covid19-dataset-brasilio-original.csv\")"
   ]
  },
  {
   "cell_type": "markdown",
   "metadata": {},
   "source": [
    "### Data Cleaning"
   ]
  },
  {
   "cell_type": "code",
   "execution_count": 13,
   "metadata": {},
   "outputs": [],
   "source": [
    "def data_cleaning(dataset, regions):\n",
    "    \n",
    "    # List of columns that will be droped\n",
    "    columns_to_drop = [\"city\", \"city_ibge_code\", \"estimated_population_2019\", \"is_repeated\", \"last_available_confirmed_per_100k_inhabitants\", \"last_available_death_rate\", \"order_for_place\", \"place_type\"]\n",
    "    \n",
    "    # Droping the columns and resetting the indexes;\n",
    "    dataset = (dataset[~dataset[\"place_type\"].isin([\"city\"])]\n",
    "                .drop(columns_to_drop, axis=1)\n",
    "                .reset_index(drop=True))\n",
    "    \n",
    "    # Adding the \"Region\" column (refer to the getRegion utility function)\n",
    "    dataset['region'] = [get_region(state, regions) for state in dataset.state.tolist()]\n",
    "    \n",
    "    # Reordering and renaming columns\n",
    "    dataset = (dataset[['date', 'last_available_date', \"is_last\", 'region', 'state', 'epidemiological_week', 'last_available_confirmed', 'last_available_deaths', 'new_confirmed', 'new_deaths']]\n",
    "               .rename(columns={\"last_available_confirmed\": \"accumulated_cases\",\n",
    "                                 \"new_confirmed\": \"new_cases\",\n",
    "                                 \"last_available_deaths\": \"accumulated_deaths\",\n",
    "                                 \"new_deaths\": \"new_deaths\",\n",
    "                                }))\n",
    "    \n",
    "    # Saving the updated dataset\n",
    "    save_dataset(dataset, \"data/processed/covid19-dataset-brasilio_cleaned.csv\")\n",
    "    \n",
    "    return dataset, dataset.last_available_date.max()"
   ]
  },
  {
   "cell_type": "markdown",
   "metadata": {},
   "source": [
    "## Processing National Data"
   ]
  },
  {
   "cell_type": "code",
   "execution_count": 67,
   "metadata": {},
   "outputs": [],
   "source": [
    "def process_national_data_alt(dataset, date_list, last_updated):\n",
    "    dataFrames = []\n",
    "    \n",
    "    for date in date_list[:-1]:\n",
    "        temp_dataframe = pd.DataFrame(dataset[dataset['date'] == date.strftime(\"%Y-%m-%d\")].loc[:, 'accumulated_cases':'new_deaths'].sum()).T\n",
    "        temp_dataframe.insert(0, \"date\", date.strftime(\"%Y-%m-%d\"), True)\n",
    "        temp_dataframe.insert(1, \"epidemiological_week\", dataset[dataset['date'] == date.strftime(\"%Y-%m-%d\")]['epidemiological_week'].values[0], True)\n",
    "        dataFrames.append(temp_dataframe)\n",
    "    \n",
    "    \n",
    "    \n",
    "    return pd.concat(dataFrames)"
   ]
  },
  {
   "cell_type": "code",
   "execution_count": 70,
   "metadata": {},
   "outputs": [
    {
     "data": {
      "text/html": [
       "<div>\n",
       "<style scoped>\n",
       "    .dataframe tbody tr th:only-of-type {\n",
       "        vertical-align: middle;\n",
       "    }\n",
       "\n",
       "    .dataframe tbody tr th {\n",
       "        vertical-align: top;\n",
       "    }\n",
       "\n",
       "    .dataframe thead th {\n",
       "        text-align: right;\n",
       "    }\n",
       "</style>\n",
       "<table border=\"1\" class=\"dataframe\">\n",
       "  <thead>\n",
       "    <tr style=\"text-align: right;\">\n",
       "      <th></th>\n",
       "      <th>date</th>\n",
       "      <th>epidemiological_week</th>\n",
       "      <th>accumulated_cases</th>\n",
       "      <th>accumulated_deaths</th>\n",
       "      <th>new_cases</th>\n",
       "      <th>new_deaths</th>\n",
       "    </tr>\n",
       "  </thead>\n",
       "  <tbody>\n",
       "    <tr>\n",
       "      <th>0</th>\n",
       "      <td>2020-02-25</td>\n",
       "      <td>202009</td>\n",
       "      <td>1</td>\n",
       "      <td>0</td>\n",
       "      <td>1</td>\n",
       "      <td>0</td>\n",
       "    </tr>\n",
       "    <tr>\n",
       "      <th>0</th>\n",
       "      <td>2020-02-26</td>\n",
       "      <td>202009</td>\n",
       "      <td>1</td>\n",
       "      <td>0</td>\n",
       "      <td>0</td>\n",
       "      <td>0</td>\n",
       "    </tr>\n",
       "    <tr>\n",
       "      <th>0</th>\n",
       "      <td>2020-02-27</td>\n",
       "      <td>202009</td>\n",
       "      <td>1</td>\n",
       "      <td>0</td>\n",
       "      <td>0</td>\n",
       "      <td>0</td>\n",
       "    </tr>\n",
       "    <tr>\n",
       "      <th>0</th>\n",
       "      <td>2020-02-28</td>\n",
       "      <td>202009</td>\n",
       "      <td>2</td>\n",
       "      <td>0</td>\n",
       "      <td>1</td>\n",
       "      <td>0</td>\n",
       "    </tr>\n",
       "    <tr>\n",
       "      <th>0</th>\n",
       "      <td>2020-02-29</td>\n",
       "      <td>202009</td>\n",
       "      <td>2</td>\n",
       "      <td>0</td>\n",
       "      <td>0</td>\n",
       "      <td>0</td>\n",
       "    </tr>\n",
       "    <tr>\n",
       "      <th>...</th>\n",
       "      <td>...</td>\n",
       "      <td>...</td>\n",
       "      <td>...</td>\n",
       "      <td>...</td>\n",
       "      <td>...</td>\n",
       "      <td>...</td>\n",
       "    </tr>\n",
       "    <tr>\n",
       "      <th>0</th>\n",
       "      <td>2021-04-21</td>\n",
       "      <td>202116</td>\n",
       "      <td>14134150</td>\n",
       "      <td>381971</td>\n",
       "      <td>73988</td>\n",
       "      <td>3197</td>\n",
       "    </tr>\n",
       "    <tr>\n",
       "      <th>0</th>\n",
       "      <td>2021-04-22</td>\n",
       "      <td>202116</td>\n",
       "      <td>14182258</td>\n",
       "      <td>384022</td>\n",
       "      <td>48108</td>\n",
       "      <td>2051</td>\n",
       "    </tr>\n",
       "    <tr>\n",
       "      <th>0</th>\n",
       "      <td>2021-04-23</td>\n",
       "      <td>202116</td>\n",
       "      <td>14251539</td>\n",
       "      <td>387067</td>\n",
       "      <td>69281</td>\n",
       "      <td>3045</td>\n",
       "    </tr>\n",
       "    <tr>\n",
       "      <th>0</th>\n",
       "      <td>2021-04-24</td>\n",
       "      <td>202116</td>\n",
       "      <td>14315320</td>\n",
       "      <td>389830</td>\n",
       "      <td>63781</td>\n",
       "      <td>2763</td>\n",
       "    </tr>\n",
       "    <tr>\n",
       "      <th>0</th>\n",
       "      <td>2021-04-25</td>\n",
       "      <td>202117</td>\n",
       "      <td>14348961</td>\n",
       "      <td>391164</td>\n",
       "      <td>33641</td>\n",
       "      <td>1334</td>\n",
       "    </tr>\n",
       "  </tbody>\n",
       "</table>\n",
       "<p>426 rows × 6 columns</p>\n",
       "</div>"
      ],
      "text/plain": [
       "          date  epidemiological_week  accumulated_cases  accumulated_deaths  \\\n",
       "0   2020-02-25                202009                  1                   0   \n",
       "0   2020-02-26                202009                  1                   0   \n",
       "0   2020-02-27                202009                  1                   0   \n",
       "0   2020-02-28                202009                  2                   0   \n",
       "0   2020-02-29                202009                  2                   0   \n",
       "..         ...                   ...                ...                 ...   \n",
       "0   2021-04-21                202116           14134150              381971   \n",
       "0   2021-04-22                202116           14182258              384022   \n",
       "0   2021-04-23                202116           14251539              387067   \n",
       "0   2021-04-24                202116           14315320              389830   \n",
       "0   2021-04-25                202117           14348961              391164   \n",
       "\n",
       "    new_cases  new_deaths  \n",
       "0           1           0  \n",
       "0           0           0  \n",
       "0           0           0  \n",
       "0           1           0  \n",
       "0           0           0  \n",
       "..        ...         ...  \n",
       "0       73988        3197  \n",
       "0       48108        2051  \n",
       "0       69281        3045  \n",
       "0       63781        2763  \n",
       "0       33641        1334  \n",
       "\n",
       "[426 rows x 6 columns]"
      ]
     },
     "execution_count": 70,
     "metadata": {},
     "output_type": "execute_result"
    }
   ],
   "source": [
    "process_national_data_alt(covid_dataset_clean, date_list, last_updated)"
   ]
  },
  {
   "cell_type": "code",
   "execution_count": 22,
   "metadata": {},
   "outputs": [],
   "source": [
    "def process_national_data(dataset, date_list, last_updated):\n",
    "    \n",
    "    # Creating auxiliary lists\n",
    "    acc_cases = []\n",
    "    acc_deaths = []\n",
    "    n_cases = []\n",
    "    n_deaths = []\n",
    "    epi_week = []\n",
    "    \n",
    "    # Iterating over each date\n",
    "    for date in date_list[:-1]:\n",
    "        \n",
    "        # Summing over all data for specific date\n",
    "        summatory = dataset[dataset['date'] == date.strftime(\"%Y-%m-%d\")].sum()\n",
    "        \n",
    "        # Getting the epidemiological week for each date\n",
    "        epi_week.append(dataset[dataset['date'] == date.strftime(\"%Y-%m-%d\")]['epidemiological_week'].values[0])\n",
    "        \n",
    "        # Getting summed data of each column\n",
    "        acc_cases.append(summatory[6])\n",
    "        acc_deaths.append(summatory[7])\n",
    "        n_cases.append(summatory[8])\n",
    "        n_deaths.append(summatory[9])\n",
    "    \n",
    "    # For today's data\n",
    "    # Summing over all data for specific date\n",
    "    summatory = dataset[dataset[\"is_last\"] == True].sum()\n",
    "\n",
    "    # Getting the epidemiological week for each date\n",
    "    epi_week.append(dataset[dataset['date'] == last_updated].epidemiological_week.iat[0])\n",
    "\n",
    "    # Getting summed data of each column\n",
    "    acc_cases.append(summatory[6])\n",
    "    acc_deaths.append(summatory[7])\n",
    "    n_cases.append(summatory[8])\n",
    "    n_deaths.append(summatory[9])\n",
    "    \n",
    "    \n",
    "    # Creating a new DataFrame of the processed data\n",
    "    national_dataframe = pd.DataFrame({\"date\": pd.date_range(start = \"2020-02-25\", end = last_updated), \n",
    "                                       \"country\": \"Brazil\", \n",
    "                                       \"epidemiological_week\": epi_week, \n",
    "                                       \"accumulated_num_cases\": acc_cases, \n",
    "                                       \"accumulated_num_deaths\": acc_deaths,\n",
    "                                       \"new_num_cases\": n_cases,\n",
    "                                       \"new_num_deaths\": n_deaths\n",
    "                                      })\n",
    "    \n",
    "    # Saving the dataset\n",
    "    \n",
    "    save_dataset(national_dataframe, \"data/national/covid19-dataset-brasil.csv\")\n",
    "    \n",
    "    # Returning generated DataFrame\n",
    "    return national_dataframe"
   ]
  },
  {
   "cell_type": "markdown",
   "metadata": {},
   "source": [
    "## Execution"
   ]
  },
  {
   "cell_type": "markdown",
   "metadata": {},
   "source": [
    "### Data Preprocessing"
   ]
  },
  {
   "cell_type": "code",
   "execution_count": 11,
   "metadata": {},
   "outputs": [],
   "source": [
    "if len(os.listdir(\"data/processed\")) == 1:\n",
    "    covid_dataset = download_dataset()\n",
    "else:\n",
    "    to_read = os.listdir(\"data/processed\")[0]\n",
    "    covid_dataset = pd.read_csv(f\"data/processed/{thecsv}\")"
   ]
  },
  {
   "cell_type": "code",
   "execution_count": 16,
   "metadata": {},
   "outputs": [],
   "source": [
    "covid_dataset_clean, last_updated = data_cleaning(covid_dataset, regions)"
   ]
  },
  {
   "cell_type": "code",
   "execution_count": 18,
   "metadata": {},
   "outputs": [],
   "source": [
    "date_list = pd.date_range(start = \"2020-02-25\", end = last_updated)"
   ]
  },
  {
   "cell_type": "markdown",
   "metadata": {},
   "source": [
    "### Getting National Data"
   ]
  },
  {
   "cell_type": "code",
   "execution_count": 48,
   "metadata": {},
   "outputs": [
    {
     "data": {
      "text/html": [
       "<div>\n",
       "<style scoped>\n",
       "    .dataframe tbody tr th:only-of-type {\n",
       "        vertical-align: middle;\n",
       "    }\n",
       "\n",
       "    .dataframe tbody tr th {\n",
       "        vertical-align: top;\n",
       "    }\n",
       "\n",
       "    .dataframe thead th {\n",
       "        text-align: right;\n",
       "    }\n",
       "</style>\n",
       "<table border=\"1\" class=\"dataframe\">\n",
       "  <thead>\n",
       "    <tr style=\"text-align: right;\">\n",
       "      <th></th>\n",
       "      <th>accumulated_cases</th>\n",
       "      <th>accumulated_deaths</th>\n",
       "      <th>new_cases</th>\n",
       "      <th>new_deaths</th>\n",
       "    </tr>\n",
       "  </thead>\n",
       "  <tbody>\n",
       "    <tr>\n",
       "      <th>0</th>\n",
       "      <td>11958814</td>\n",
       "      <td>293076</td>\n",
       "      <td>73154</td>\n",
       "      <td>2368</td>\n",
       "    </tr>\n",
       "  </tbody>\n",
       "</table>\n",
       "</div>"
      ],
      "text/plain": [
       "   accumulated_cases  accumulated_deaths  new_cases  new_deaths\n",
       "0           11958814              293076      73154        2368"
      ]
     },
     "execution_count": 48,
     "metadata": {},
     "output_type": "execute_result"
    }
   ],
   "source": [
    "pd.DataFrame(covid_dataset_clean[covid_dataset_clean['date'] == \"2021-03-20\"].loc[:, 'accumulated_cases':'new_deaths'].sum()).T"
   ]
  },
  {
   "cell_type": "code",
   "execution_count": 69,
   "metadata": {},
   "outputs": [],
   "source": [
    "national_dataset = process_national_data(covid_dataset_clean, date_list, last_updated)"
   ]
  },
  {
   "cell_type": "code",
   "execution_count": null,
   "metadata": {},
   "outputs": [],
   "source": []
  },
  {
   "cell_type": "code",
   "execution_count": 15,
   "metadata": {},
   "outputs": [],
   "source": [
    "to_read = os.listdir(\"data/processed\")[0]\n",
    "os.remove(f\"data/processed/{to_read}\")"
   ]
  }
 ],
 "metadata": {
  "kernelspec": {
   "display_name": "Python 3",
   "language": "python",
   "name": "python3"
  },
  "language_info": {
   "codemirror_mode": {
    "name": "ipython",
    "version": 3
   },
   "file_extension": ".py",
   "mimetype": "text/x-python",
   "name": "python",
   "nbconvert_exporter": "python",
   "pygments_lexer": "ipython3",
   "version": "3.8.5"
  }
 },
 "nbformat": 4,
 "nbformat_minor": 4
}
